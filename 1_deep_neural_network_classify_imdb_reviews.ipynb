{
 "cells": [
  {
   "cell_type": "markdown",
   "metadata": {},
   "source": [
    "# Constructing multi nn to classify positive and negative reviews from imdb dataset"
   ]
  },
  {
   "cell_type": "code",
   "execution_count": 1,
   "metadata": {},
   "outputs": [
    {
     "name": "stderr",
     "output_type": "stream",
     "text": [
      "Using TensorFlow backend.\n"
     ]
    }
   ],
   "source": [
    "%matplotlib inline\n",
    "import numpy as np\n",
    "import matplotlib.pyplot as plt\n",
    "from sklearn.metrics import roc_curve, auc\n",
    "from keras.datasets import imdb\n",
    "from keras import models, layers"
   ]
  },
  {
   "cell_type": "markdown",
   "metadata": {},
   "source": [
    "## 1. Customize np.load and load imdb"
   ]
  },
  {
   "cell_type": "code",
   "execution_count": 2,
   "metadata": {},
   "outputs": [],
   "source": [
    "np_default_load = np.load\n",
    "np.load = lambda *arg, **kwarg: np_default_load(*arg, **kwarg, allow_pickle = True)"
   ]
  },
  {
   "cell_type": "code",
   "execution_count": 3,
   "metadata": {},
   "outputs": [],
   "source": [
    "max_words = 10000\n",
    "(X_train, Y_train), (X_test, Y_test) = imdb.load_data(num_words = max_words)"
   ]
  },
  {
   "cell_type": "code",
   "execution_count": 4,
   "metadata": {},
   "outputs": [],
   "source": [
    "# restore np.load\n",
    "np.load = np_default_load\n",
    "del np_default_load"
   ]
  },
  {
   "cell_type": "code",
   "execution_count": 5,
   "metadata": {},
   "outputs": [
    {
     "name": "stdout",
     "output_type": "stream",
     "text": [
      "<class 'numpy.ndarray'> <class 'numpy.ndarray'>\n",
      "(25000,) (25000,)\n",
      "<class 'numpy.ndarray'> <class 'numpy.ndarray'>\n",
      "(25000,) (25000,)\n"
     ]
    }
   ],
   "source": [
    "print(type(X_train), type(Y_train))\n",
    "print(X_train.shape, Y_train.shape)\n",
    "print(type(X_test), type(Y_test))\n",
    "print(X_test.shape, Y_test.shape)"
   ]
  },
  {
   "cell_type": "markdown",
   "metadata": {},
   "source": [
    "## 2. Decode the first review from X_train and show it"
   ]
  },
  {
   "cell_type": "code",
   "execution_count": 6,
   "metadata": {},
   "outputs": [
    {
     "data": {
      "text/plain": [
       "\"? this film was just brilliant casting location scenery story direction everyone's really suited the part they played and you could just imagine being there robert ? is an amazing actor and now the same being director ? father came from the same scottish island as myself so i loved the fact there was a real connection with this film the witty remarks throughout the film were great it was just brilliant so much that i bought the film as soon as it was released for ? and would recommend it to everyone to watch and the fly fishing was amazing really cried at the end it was so sad and you know what they say if you cry at a film it must have been good and this definitely was also ? to the two little boy's that played the ? of norman and paul they were just brilliant children are often left out of the ? list i think because the stars that play them all grown up are such a big profile for the whole film but these children are amazing and should be praised for what they have done don't you think the whole story was so lovely because it was true and was someone's life after all that was shared with us all\""
      ]
     },
     "execution_count": 6,
     "metadata": {},
     "output_type": "execute_result"
    }
   ],
   "source": [
    "word_index = imdb.get_word_index()\n",
    "index_word = dict([(idx, word) for (word, idx) in word_index.items()])\n",
    "first_review_train = ' '.join([index_word.get(i - 3, '?') for i in X_train[0]])\n",
    "first_review_train"
   ]
  },
  {
   "cell_type": "markdown",
   "metadata": {},
   "source": [
    "## 3. Implement one_hot X_train and Y_train (sparse vector)"
   ]
  },
  {
   "cell_type": "code",
   "execution_count": 7,
   "metadata": {},
   "outputs": [],
   "source": [
    "def vec_to_sequences(sequences, dim = 10000):\n",
    "    results = np.zeros((len(sequences), dim))\n",
    "    for i, sequence in enumerate(sequences):\n",
    "        results[i, sequence] = 1\n",
    "    return results"
   ]
  },
  {
   "cell_type": "code",
   "execution_count": 8,
   "metadata": {},
   "outputs": [],
   "source": [
    "X_train = vec_to_sequences(X_train)\n",
    "X_test = vec_to_sequences(X_test)"
   ]
  },
  {
   "cell_type": "code",
   "execution_count": 9,
   "metadata": {},
   "outputs": [
    {
     "name": "stdout",
     "output_type": "stream",
     "text": [
      "float64\n",
      "int64\n"
     ]
    }
   ],
   "source": [
    "print(X_train.dtype)\n",
    "print(Y_train.dtype)"
   ]
  },
  {
   "cell_type": "code",
   "execution_count": 10,
   "metadata": {},
   "outputs": [],
   "source": [
    "Y_train = np.asarray(Y_train).astype('float64')\n",
    "Y_test = np.asarray(Y_test).astype('float64')"
   ]
  },
  {
   "cell_type": "markdown",
   "metadata": {},
   "source": [
    "## 4. Design and run model on train and validation sets"
   ]
  },
  {
   "cell_type": "code",
   "execution_count": 11,
   "metadata": {},
   "outputs": [],
   "source": [
    "Model = models.Sequential()\n",
    "Model.add(layers.Dense(16, activation = 'relu', input_shape = (max_words, )))\n",
    "Model.add(layers.Dense(16, activation = 'relu'))\n",
    "Model.add(layers.Dense(1, activation = 'sigmoid'))"
   ]
  },
  {
   "cell_type": "code",
   "execution_count": 12,
   "metadata": {},
   "outputs": [],
   "source": [
    "Model.compile(optimizer = 'rmsprop', loss = 'binary_crossentropy', metrics = ['accuracy'])"
   ]
  },
  {
   "cell_type": "code",
   "execution_count": 13,
   "metadata": {},
   "outputs": [],
   "source": [
    "X_vali = X_train[:10000]\n",
    "Y_vali = Y_train[:10000]\n",
    "Partial_X_train = X_train[10000:]\n",
    "Partial_Y_train = Y_train[10000:]"
   ]
  },
  {
   "cell_type": "code",
   "execution_count": 14,
   "metadata": {},
   "outputs": [
    {
     "name": "stdout",
     "output_type": "stream",
     "text": [
      "Train on 15000 samples, validate on 10000 samples\n",
      "Epoch 1/20\n",
      "15000/15000 [==============================] - 35s 2ms/step - loss: 0.5084 - acc: 0.7813 - val_loss: 0.3797 - val_acc: 0.8684\n",
      "Epoch 2/20\n",
      "15000/15000 [==============================] - 10s 664us/step - loss: 0.3004 - acc: 0.9045 - val_loss: 0.3004 - val_acc: 0.8897\n",
      "Epoch 3/20\n",
      "15000/15000 [==============================] - 4s 252us/step - loss: 0.2179 - acc: 0.9287 - val_loss: 0.3088 - val_acc: 0.8712\n",
      "Epoch 4/20\n",
      "15000/15000 [==============================] - 4s 238us/step - loss: 0.1750 - acc: 0.9439 - val_loss: 0.2840 - val_acc: 0.8832\n",
      "Epoch 5/20\n",
      "15000/15000 [==============================] - 4s 247us/step - loss: 0.1427 - acc: 0.9543 - val_loss: 0.2841 - val_acc: 0.8873\n",
      "Epoch 6/20\n",
      "15000/15000 [==============================] - 4s 251us/step - loss: 0.1150 - acc: 0.9651 - val_loss: 0.3163 - val_acc: 0.8771\n",
      "Epoch 7/20\n",
      "15000/15000 [==============================] - 6s 372us/step - loss: 0.0980 - acc: 0.9707 - val_loss: 0.3127 - val_acc: 0.8846\n",
      "Epoch 8/20\n",
      "15000/15000 [==============================] - 4s 259us/step - loss: 0.0807 - acc: 0.9763 - val_loss: 0.3858 - val_acc: 0.8648\n",
      "Epoch 9/20\n",
      "15000/15000 [==============================] - 4s 254us/step - loss: 0.0661 - acc: 0.9821 - val_loss: 0.3635 - val_acc: 0.8782\n",
      "Epoch 10/20\n",
      "15000/15000 [==============================] - 4s 263us/step - loss: 0.0562 - acc: 0.9852 - val_loss: 0.3842 - val_acc: 0.8797\n",
      "Epoch 11/20\n",
      "15000/15000 [==============================] - 4s 249us/step - loss: 0.0437 - acc: 0.9899 - val_loss: 0.4150 - val_acc: 0.8783\n",
      "Epoch 12/20\n",
      "15000/15000 [==============================] - 4s 259us/step - loss: 0.0380 - acc: 0.9920 - val_loss: 0.4541 - val_acc: 0.8682\n",
      "Epoch 13/20\n",
      "15000/15000 [==============================] - 4s 257us/step - loss: 0.0301 - acc: 0.9927 - val_loss: 0.4701 - val_acc: 0.8728\n",
      "Epoch 14/20\n",
      "15000/15000 [==============================] - 4s 255us/step - loss: 0.0247 - acc: 0.9945 - val_loss: 0.5024 - val_acc: 0.8723\n",
      "Epoch 15/20\n",
      "15000/15000 [==============================] - 4s 250us/step - loss: 0.0185 - acc: 0.9971 - val_loss: 0.5303 - val_acc: 0.8704\n",
      "Epoch 16/20\n",
      "15000/15000 [==============================] - 4s 240us/step - loss: 0.0177 - acc: 0.9965 - val_loss: 0.5635 - val_acc: 0.8703\n",
      "Epoch 17/20\n",
      "15000/15000 [==============================] - 4s 243us/step - loss: 0.0112 - acc: 0.9991 - val_loss: 0.5988 - val_acc: 0.8675\n",
      "Epoch 18/20\n",
      "15000/15000 [==============================] - 4s 243us/step - loss: 0.0128 - acc: 0.9974 - val_loss: 0.6309 - val_acc: 0.8666\n",
      "Epoch 19/20\n",
      "15000/15000 [==============================] - 4s 250us/step - loss: 0.0062 - acc: 0.9996 - val_loss: 0.7270 - val_acc: 0.8540\n",
      "Epoch 20/20\n",
      "15000/15000 [==============================] - 4s 242us/step - loss: 0.0061 - acc: 0.9996 - val_loss: 0.7022 - val_acc: 0.8643\n"
     ]
    }
   ],
   "source": [
    "fitedModel = Model.fit(Partial_X_train, Partial_Y_train, epochs = 20, batch_size = 512, validation_data = (X_vali, Y_vali))"
   ]
  },
  {
   "cell_type": "markdown",
   "metadata": {},
   "source": [
    "## 5. Plot accuracy and loss to infer the best epoch"
   ]
  },
  {
   "cell_type": "code",
   "execution_count": 15,
   "metadata": {},
   "outputs": [
    {
     "data": {
      "text/plain": [
       "dict_keys(['val_loss', 'val_acc', 'loss', 'acc'])"
      ]
     },
     "execution_count": 15,
     "metadata": {},
     "output_type": "execute_result"
    }
   ],
   "source": [
    "history_dict = fitedModel.history\n",
    "history_dict.keys()"
   ]
  },
  {
   "cell_type": "code",
   "execution_count": 16,
   "metadata": {},
   "outputs": [],
   "source": [
    "acc = history_dict['acc']\n",
    "val_acc = history_dict['val_acc']\n",
    "loss = history_dict['loss']\n",
    "val_loss = history_dict['val_loss']\n",
    "Epoch = range(1, len(acc) + 1)"
   ]
  },
  {
   "cell_type": "code",
   "execution_count": 17,
   "metadata": {},
   "outputs": [
    {
     "data": {
      "image/png": "[encoded data removed]",
      "text/plain": [
       "<Figure size 432x288 with 1 Axes>"
      ]
     },
     "metadata": {
      "needs_background": "light"
     },
     "output_type": "display_data"
    }
   ],
   "source": [
    "plt.plot(Epoch, acc, 'bo', label = 'Training accuracy')\n",
    "plt.plot(Epoch, val_acc, 'b', label = 'Validation accuracy')\n",
    "plt.title('Training and validation accuracy')\n",
    "plt.xlabel('Epoch')\n",
    "plt.ylabel('Accuracy')\n",
    "plt.legend()\n",
    "plt.show()"
   ]
  },
  {
   "cell_type": "code",
   "execution_count": 18,
   "metadata": {},
   "outputs": [
    {
     "data": {
      "image/png": "[encoded data removed]",
      "text/plain": [
       "<Figure size 432x288 with 1 Axes>"
      ]
     },
     "metadata": {
      "needs_background": "light"
     },
     "output_type": "display_data"
    }
   ],
   "source": [
    "plt.plot(Epoch, loss, 'bo', label = 'Training loss')\n",
    "plt.plot(Epoch, val_loss, 'b', label = 'Validation loss')\n",
    "plt.title('Training and validation loss')\n",
    "plt.xlabel('Epoch')\n",
    "plt.ylabel('Loss')\n",
    "plt.legend()\n",
    "plt.show()"
   ]
  },
  {
   "cell_type": "markdown",
   "metadata": {},
   "source": [
    "## 6. Choose epoch and implement model on test set"
   ]
  },
  {
   "cell_type": "code",
   "execution_count": 19,
   "metadata": {},
   "outputs": [
    {
     "name": "stdout",
     "output_type": "stream",
     "text": [
      "Epoch 1/5\n",
      "25000/25000 [==============================] - 11s 445us/step - loss: 0.4751 - acc: 0.8218\n",
      "Epoch 2/5\n",
      "25000/25000 [==============================] - 5s 209us/step - loss: 0.2656 - acc: 0.9096\n",
      "Epoch 3/5\n",
      "25000/25000 [==============================] - 4s 157us/step - loss: 0.1983 - acc: 0.9298\n",
      "Epoch 4/5\n",
      "25000/25000 [==============================] - 4s 155us/step - loss: 0.1677 - acc: 0.9404\n",
      "Epoch 5/5\n",
      "25000/25000 [==============================] - 4s 161us/step - loss: 0.1431 - acc: 0.9502\n"
     ]
    },
    {
     "data": {
      "text/plain": [
       "<keras.callbacks.History at 0x1a096249588>"
      ]
     },
     "execution_count": 19,
     "metadata": {},
     "output_type": "execute_result"
    }
   ],
   "source": [
    "Model = models.Sequential()\n",
    "Model.add(layers.Dense(16, activation='relu', input_shape=(10000,)))\n",
    "Model.add(layers.Dense(16, activation='relu'))\n",
    "Model.add(layers.Dense(1, activation='sigmoid'))\n",
    "Model.compile(optimizer='rmsprop',loss='binary_crossentropy',metrics=['accuracy'])\n",
    "Model.fit(X_train, Y_train, epochs=5, batch_size=512)"
   ]
  },
  {
   "cell_type": "code",
   "execution_count": 20,
   "metadata": {},
   "outputs": [
    {
     "name": "stdout",
     "output_type": "stream",
     "text": [
      "25000/25000 [==============================] - 122s 5ms/step\n",
      "[0.31659901606559754, 0.8798]\n"
     ]
    }
   ],
   "source": [
    "results = Model.evaluate(X_test, Y_test)\n",
    "print(results)"
   ]
  },
  {
   "cell_type": "code",
   "execution_count": 21,
   "metadata": {},
   "outputs": [],
   "source": [
    "Probs = Model.predict(X_test)"
   ]
  },
  {
   "cell_type": "code",
   "execution_count": 22,
   "metadata": {},
   "outputs": [
    {
     "data": {
      "text/plain": [
       "array([[0.20097157],\n",
       "       [0.99992824],\n",
       "       [0.7447963 ],\n",
       "       [0.9060969 ],\n",
       "       [0.97042847]], dtype=float32)"
      ]
     },
     "execution_count": 22,
     "metadata": {},
     "output_type": "execute_result"
    }
   ],
   "source": [
    "Probs[:5]"
   ]
  },
  {
   "cell_type": "code",
   "execution_count": 23,
   "metadata": {},
   "outputs": [
    {
     "data": {
      "text/plain": [
       "array([0., 1., 1., 0., 1.])"
      ]
     },
     "execution_count": 23,
     "metadata": {},
     "output_type": "execute_result"
    }
   ],
   "source": [
    "Y_test[:5]"
   ]
  },
  {
   "cell_type": "code",
   "execution_count": 24,
   "metadata": {},
   "outputs": [
    {
     "name": "stdout",
     "output_type": "stream",
     "text": [
      "[0.20097157 0.99992824 0.7447963  0.9060969  0.97042847]\n"
     ]
    }
   ],
   "source": [
    "Probs = np.squeeze(Probs, axis = 1)\n",
    "print(Probs[:5])"
   ]
  },
  {
   "cell_type": "code",
   "execution_count": 25,
   "metadata": {},
   "outputs": [
    {
     "name": "stdout",
     "output_type": "stream",
     "text": [
      "[0. 1. 1. 0. 1.]\n"
     ]
    }
   ],
   "source": [
    "print(Y_test[:5])"
   ]
  },
  {
   "cell_type": "code",
   "execution_count": 26,
   "metadata": {},
   "outputs": [
    {
     "data": {
      "image/png": "[encoded data removed]",
      "text/plain": [
       "<Figure size 432x288 with 2 Axes>"
      ]
     },
     "metadata": {
      "needs_background": "light"
     },
     "output_type": "display_data"
    }
   ],
   "source": [
    "fpr, tpr, thresholds = roc_curve(Y_test, Probs, pos_label = 1)\n",
    "roc_auc = auc(fpr, tpr)\n",
    "plt.plot(fpr, tpr, 'b', label = 'ROC curve (AUC: %.2f)' % roc_auc)\n",
    "plt.plot([0, 1], [0, 1], color='blue', linestyle='--')\n",
    "plt.xlabel('False positive rate')\n",
    "plt.ylabel('True positive rate')\n",
    "plt.title('Receiver Operating Characteristic Curve')\n",
    "plt.legend(loc = 'lower right')\n",
    "\n",
    "ax2 = plt.gca().twinx()\n",
    "ax2.plot(fpr, thresholds, markeredgecolor = 'red', linestyle = 'dashed', color = 'r')\n",
    "ax2.set_ylabel('Threshold', color = 'r')\n",
    "ax2.set_ylim([thresholds[-1], thresholds[0]])\n",
    "ax2.set_xlim([fpr[0], fpr[-1]])\n",
    "plt.show()"
   ]
  },
  {
   "cell_type": "code",
   "execution_count": null,
   "metadata": {},
   "outputs": [],
   "source": []
  }
 ],
 "metadata": {
  "kernelspec": {
   "display_name": "Python 3",
   "language": "python",
   "name": "python3"
  },
  "language_info": {
   "codemirror_mode": {
    "name": "ipython",
    "version": 3
   },
   "file_extension": ".py",
   "mimetype": "text/x-python",
   "name": "python",
   "nbconvert_exporter": "python",
   "pygments_lexer": "ipython3",
   "version": "3.6.8"
  }
 },
 "nbformat": 4,
 "nbformat_minor": 2
}
